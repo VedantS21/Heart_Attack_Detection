{
 "cells": [
  {
   "cell_type": "markdown",
   "id": "f1016ea9",
   "metadata": {},
   "source": [
    "# Heart Attack Detection using CNN "
   ]
  },
  {
   "cell_type": "markdown",
   "id": "488e634e",
   "metadata": {},
   "source": [
    "### Importing the required Libraries"
   ]
  },
  {
   "cell_type": "code",
   "execution_count": 2,
   "id": "807da8e2",
   "metadata": {},
   "outputs": [],
   "source": [
    "import os\n",
    "import sys\n",
    "from time import time\n",
    "import tensorflow\n",
    "from tensorflow.keras import backend as K\n",
    "from tensorflow.keras.models import Sequential\n",
    "from tensorflow.keras.optimizers import SGD\n",
    "from tensorflow.keras.preprocessing.image import ImageDataGenerator\n",
    "from tensorflow.keras.layers import Dropout, Flatten, Dense, Activation\n",
    "from tensorflow.keras.layers import  Convolution2D, MaxPooling2D, ZeroPadding2D"
   ]
  },
  {
   "cell_type": "markdown",
   "id": "6675064d",
   "metadata": {},
   "source": [
    "### Dataset path"
   ]
  },
  {
   "cell_type": "code",
   "execution_count": 3,
   "id": "c8509db3",
   "metadata": {},
   "outputs": [],
   "source": [
    "INPUT_PATH_TRAIN = \"B:/Vedant/Academic/Heart-Attack-Detection-In-Images-master/Heart-Attack-Detection-In-Images-master/dataset/train\"\n",
    "INPUT_PATH_VAL = \"B:/Vedant/Academic/Heart-Attack-Detection-In-Images-master/Heart-Attack-Detection-In-Images-master/dataset/val\"\n",
    "INPUT_PATH_TEST = \"B:/Vedant/Academic/Heart-Attack-Detection-In-Images-master/Heart-Attack-Detection-In-Images-master/dataset/test\"\n",
    "OUTPUT_DIR = \"B:/Vedant/Academic/Heart-Attack-Detection-In-Images-master/Heart-Attack-Detection-In-Images-master/model\""
   ]
  },
  {
   "cell_type": "code",
   "execution_count": 4,
   "id": "a35804ca",
   "metadata": {},
   "outputs": [],
   "source": [
    "# Checkpoints\n",
    "EPOCH_CHECK_POINT = 2   # How many epoch til save next checkpoint\n",
    "NUM_CHECK_POINT = 10    # How many epoch will be saved\n",
    "KEEP_ONLY_LATEST = False# Keeping only the last checkpoint"
   ]
  },
  {
   "cell_type": "code",
   "execution_count": 10,
   "id": "8f626240",
   "metadata": {},
   "outputs": [],
   "source": [
    "# Train configurations\n",
    "WIDTH, HEIGHT = 256, 256# Size images to train\n",
    "STEPS = 450             # How many steps per epoch\n",
    "VALIDATION_STEPS = 100  # How many steps per next validation\n",
    "BATCH_SIZE = 48         # How many images at the same time, change depending on your GPU\n",
    "LR = 0.003              # Learning rate\n",
    "CLASSES = 2             # Don't chage, 0=Infarct, 1=Normal"
   ]
  },
  {
   "cell_type": "code",
   "execution_count": 6,
   "id": "94244449",
   "metadata": {},
   "outputs": [],
   "source": [
    "if not os.path.exists(OUTPUT_DIR):\n",
    "    os.mkdir(OUTPUT_DIR)"
   ]
  },
  {
   "cell_type": "code",
   "execution_count": 7,
   "id": "e153c9d4",
   "metadata": {},
   "outputs": [
    {
     "name": "stdout",
     "output_type": "stream",
     "text": [
      "Found 22344 images belonging to 2 classes.\n",
      "Found 4788 images belonging to 2 classes.\n",
      "Found 4788 images belonging to 2 classes.\n"
     ]
    }
   ],
   "source": [
    "K.clear_session()\n",
    "\n",
    "train_datagen = ImageDataGenerator()\n",
    "val_datagen = ImageDataGenerator()\n",
    "test_datagen = ImageDataGenerator()\n",
    "\n",
    "train_gen = train_datagen.flow_from_directory(\n",
    "    INPUT_PATH_TRAIN,\n",
    "    target_size=(HEIGHT, WIDTH),\n",
    "    batch_size=BATCH_SIZE,\n",
    "    class_mode='categorical')\n",
    "val_gen = val_datagen.flow_from_directory(\n",
    "    INPUT_PATH_VAL,\n",
    "    target_size=(HEIGHT, WIDTH),\n",
    "    batch_size=BATCH_SIZE,\n",
    "    class_mode='categorical')\n",
    "test_gen = test_datagen.flow_from_directory(\n",
    "    INPUT_PATH_TEST,\n",
    "    target_size=(HEIGHT, WIDTH),\n",
    "    batch_size=BATCH_SIZE,\n",
    "    class_mode='categorical')"
   ]
  },
  {
   "cell_type": "code",
   "execution_count": 8,
   "id": "5a30910f",
   "metadata": {},
   "outputs": [
    {
     "name": "stdout",
     "output_type": "stream",
     "text": [
      "Model: \"sequential\"\n",
      "_________________________________________________________________\n",
      "Layer (type)                 Output Shape              Param #   \n",
      "=================================================================\n",
      "conv2d (Conv2D)              (None, 256, 256, 64)      1792      \n",
      "_________________________________________________________________\n",
      "max_pooling2d (MaxPooling2D) (None, 85, 85, 64)        0         \n",
      "_________________________________________________________________\n",
      "conv2d_1 (Conv2D)            (None, 83, 83, 128)       73856     \n",
      "_________________________________________________________________\n",
      "max_pooling2d_1 (MaxPooling2 (None, 27, 27, 128)       0         \n",
      "_________________________________________________________________\n",
      "conv2d_2 (Conv2D)            (None, 25, 25, 256)       295168    \n",
      "_________________________________________________________________\n",
      "max_pooling2d_2 (MaxPooling2 (None, 12, 12, 256)       0         \n",
      "_________________________________________________________________\n",
      "conv2d_3 (Conv2D)            (None, 10, 10, 512)       1180160   \n",
      "_________________________________________________________________\n",
      "max_pooling2d_3 (MaxPooling2 (None, 5, 5, 512)         0         \n",
      "_________________________________________________________________\n",
      "conv2d_4 (Conv2D)            (None, 3, 3, 1024)        4719616   \n",
      "_________________________________________________________________\n",
      "max_pooling2d_4 (MaxPooling2 (None, 1, 1, 1024)        0         \n",
      "_________________________________________________________________\n",
      "dropout (Dropout)            (None, 1, 1, 1024)        0         \n",
      "_________________________________________________________________\n",
      "flatten (Flatten)            (None, 1024)              0         \n",
      "_________________________________________________________________\n",
      "dense (Dense)                (None, 128)               131200    \n",
      "_________________________________________________________________\n",
      "dense_1 (Dense)              (None, 128)               16512     \n",
      "_________________________________________________________________\n",
      "dense_2 (Dense)              (None, 128)               16512     \n",
      "_________________________________________________________________\n",
      "dense_3 (Dense)              (None, 128)               16512     \n",
      "_________________________________________________________________\n",
      "dense_4 (Dense)              (None, 128)               16512     \n",
      "_________________________________________________________________\n",
      "dropout_1 (Dropout)          (None, 128)               0         \n",
      "_________________________________________________________________\n",
      "dense_5 (Dense)              (None, 128)               16512     \n",
      "_________________________________________________________________\n",
      "dense_6 (Dense)              (None, 128)               16512     \n",
      "_________________________________________________________________\n",
      "dense_7 (Dense)              (None, 128)               16512     \n",
      "_________________________________________________________________\n",
      "dense_8 (Dense)              (None, 128)               16512     \n",
      "_________________________________________________________________\n",
      "dense_9 (Dense)              (None, 128)               16512     \n",
      "_________________________________________________________________\n",
      "dropout_2 (Dropout)          (None, 128)               0         \n",
      "_________________________________________________________________\n",
      "dense_10 (Dense)             (None, 128)               16512     \n",
      "_________________________________________________________________\n",
      "dense_11 (Dense)             (None, 128)               16512     \n",
      "_________________________________________________________________\n",
      "dense_12 (Dense)             (None, 128)               16512     \n",
      "_________________________________________________________________\n",
      "dense_13 (Dense)             (None, 128)               16512     \n",
      "_________________________________________________________________\n",
      "dense_14 (Dense)             (None, 128)               16512     \n",
      "_________________________________________________________________\n",
      "dropout_3 (Dropout)          (None, 128)               0         \n",
      "_________________________________________________________________\n",
      "dense_15 (Dense)             (None, 2)                 258       \n",
      "=================================================================\n",
      "Total params: 6,633,218\n",
      "Trainable params: 6,633,218\n",
      "Non-trainable params: 0\n",
      "_________________________________________________________________\n"
     ]
    },
    {
     "name": "stderr",
     "output_type": "stream",
     "text": [
      "C:\\Users\\Sushant Kamble\\anaconda3\\lib\\site-packages\\tensorflow\\python\\keras\\optimizer_v2\\optimizer_v2.py:374: UserWarning: The `lr` argument is deprecated, use `learning_rate` instead.\n",
      "  warnings.warn(\n"
     ]
    }
   ],
   "source": [
    "NET = Sequential()\n",
    "NET.add(Convolution2D(64, kernel_size=(3 ,3), padding =\"same\", input_shape=(256, 256, 3), activation='relu'))\n",
    "NET.add(MaxPooling2D((3,3), strides=(3,3)))\n",
    "NET.add(Convolution2D(128, kernel_size=(3, 3), activation='relu'))\n",
    "NET.add(MaxPooling2D((3,3), strides=(3,3)))\n",
    "NET.add(Convolution2D(256, kernel_size=(3, 3), activation='relu'))\n",
    "NET.add(MaxPooling2D((2,2), strides=(2,2)))\n",
    "NET.add(Convolution2D(512, kernel_size=(3, 3), activation='relu'))\n",
    "NET.add(MaxPooling2D((2,2), strides=(2,2)))\n",
    "NET.add(Convolution2D(1024, kernel_size=(3, 3), activation='relu'))\n",
    "NET.add(MaxPooling2D((2,2), strides=(2,2)))\n",
    "NET.add(Dropout(0.3))\n",
    "NET.add(Flatten())\n",
    "\n",
    "for _ in range(5):\n",
    "    NET.add(Dense(128, activation='relu'))\n",
    "NET.add(Dropout(0.5))\n",
    "\n",
    "for _ in range(5):\n",
    "    NET.add(Dense(128, activation='relu'))\n",
    "NET.add(Dropout(0.5))\n",
    "\n",
    "for _ in range(5):\n",
    "    NET.add(Dense(128, activation='relu'))\n",
    "NET.add(Dropout(0.5))\n",
    "\n",
    "NET.add(Dense(CLASSES, activation='softmax'))\n",
    "\n",
    "sgd = SGD(lr=LR, decay=1e-4, momentum=0.9, nesterov=True)\n",
    "\n",
    "NET.compile(optimizer=sgd,\n",
    "              loss='binary_crossentropy',\n",
    "              metrics=['acc', 'mse'])\n",
    "\n",
    "NET.summary()"
   ]
  },
  {
   "cell_type": "code",
   "execution_count": null,
   "id": "b15fb7a8",
   "metadata": {},
   "outputs": [
    {
     "name": "stdout",
     "output_type": "stream",
     "text": [
      "Epoch 1/2\n",
      "450/450 [==============================] - 1864s 4s/step - loss: 0.4171 - acc: 0.8272 - mse: 0.1327 - val_loss: 0.5813 - val_acc: 0.7306 - val_mse: 0.2225\n",
      "Epoch 2/2\n",
      "450/450 [==============================] - 1808s 4s/step - loss: 0.3367 - acc: 0.8658 - mse: 0.1052 - val_loss: 0.4975 - val_acc: 0.7891 - val_mse: 0.1704\n",
      "Saving model: 00.\n",
      "Epoch 1/2\n",
      "450/450 [==============================] - 1790s 4s/step - loss: 0.2815 - acc: 0.8877 - mse: 0.0873 - val_loss: 0.6070 - val_acc: 0.7389 - val_mse: 0.2138\n",
      "Epoch 2/2\n",
      "450/450 [==============================] - 1757s 4s/step - loss: 0.2365 - acc: 0.9069 - mse: 0.0716 - val_loss: 0.5100 - val_acc: 0.8024 - val_mse: 0.1654\n",
      "Saving model: 01.\n",
      "Epoch 1/2\n",
      "450/450 [==============================] - 2066s 5s/step - loss: 0.1836 - acc: 0.9297 - mse: 0.0546 - val_loss: 0.5940 - val_acc: 0.7865 - val_mse: 0.1835\n",
      "Epoch 2/2\n",
      "450/450 [==============================] - 1824s 4s/step - loss: 0.1447 - acc: 0.9461 - mse: 0.0426 - val_loss: 0.6936 - val_acc: 0.7751 - val_mse: 0.1995\n",
      "Saving model: 02.\n",
      "Epoch 1/2\n",
      "450/450 [==============================] - 2126s 5s/step - loss: 0.1099 - acc: 0.9606 - mse: 0.0316 - val_loss: 1.1661 - val_acc: 0.6846 - val_mse: 0.2921\n",
      "Epoch 2/2\n",
      "409/450 [==========================>...] - ETA: 2:39 - loss: 0.0879 - acc: 0.9684 - mse: 0.0247"
     ]
    }
   ],
   "source": [
    "for i in range(NUM_CHECK_POINT):        \n",
    "    NET.fit_generator(\n",
    "        train_gen,\n",
    "        steps_per_epoch=STEPS,\n",
    "        epochs=EPOCH_CHECK_POINT,\n",
    "        validation_data=val_gen,\n",
    "        validation_steps=VALIDATION_STEPS,\n",
    "        verbose=1\n",
    "    )   \n",
    "    \n",
    "    print('Saving model: {:02}.'.format(i))\n",
    "    NET.save(OUTPUT_DIR + \"{:02}_model1.h5\".format(i))"
   ]
  },
  {
   "cell_type": "code",
   "execution_count": null,
   "id": "fbe8c7db",
   "metadata": {},
   "outputs": [],
   "source": []
  }
 ],
 "metadata": {
  "kernelspec": {
   "display_name": "Python 3",
   "language": "python",
   "name": "python3"
  },
  "language_info": {
   "codemirror_mode": {
    "name": "ipython",
    "version": 3
   },
   "file_extension": ".py",
   "mimetype": "text/x-python",
   "name": "python",
   "nbconvert_exporter": "python",
   "pygments_lexer": "ipython3",
   "version": "3.8.8"
  }
 },
 "nbformat": 4,
 "nbformat_minor": 5
}
