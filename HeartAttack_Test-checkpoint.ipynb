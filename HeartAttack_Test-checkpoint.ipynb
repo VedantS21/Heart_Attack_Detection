{
 "cells": [
  {
   "cell_type": "code",
   "execution_count": 3,
   "id": "88bac2df",
   "metadata": {},
   "outputs": [],
   "source": [
    "from os import scandir\n",
    "import numpy as np\n",
    "from tensorflow.keras.models import load_model\n",
    "from tensorflow.keras.preprocessing.image import load_img, img_to_array\n",
    "from tensorflow.keras.preprocessing.image import ImageDataGenerator"
   ]
  },
  {
   "cell_type": "code",
   "execution_count": 4,
   "id": "095deb68",
   "metadata": {},
   "outputs": [],
   "source": [
    "INPUT_PATH_TEST = \"B:/Sushant/Academic/Heart-Attack-Detection-In-Images-master/Heart-Attack-Detection-In-Images-master/dataset/test/\"\n",
    "MODEL_PATH = \"B:/Sushant/Academic/Heart-Attack-Detection-In-Images-master/Heart-Attack-Detection-In-Images-master/model/model.h5\""
   ]
  },
  {
   "cell_type": "code",
   "execution_count": 5,
   "id": "9da04c88",
   "metadata": {},
   "outputs": [],
   "source": [
    "WIDTH, HEIGHT = 256, 256        # Size images to train\n",
    "CLASS_COUNTING = True           # Test class per class and show details each \n",
    "BATCH_SIZE = 32                 # How many images at the same time, change depending on your GPU\n",
    "CLASSES = ['00None', '01Infarct']"
   ]
  },
  {
   "cell_type": "code",
   "execution_count": 6,
   "id": "b6f2c445",
   "metadata": {},
   "outputs": [
    {
     "name": "stdout",
     "output_type": "stream",
     "text": [
      "Loading model from: B:/Sushant/Academic/Heart-Attack-Detection-In-Images-master/Heart-Attack-Detection-In-Images-master/model/model.h5\n",
      "Model: \"sequential_1\"\n",
      "_________________________________________________________________\n",
      "Layer (type)                 Output Shape              Param #   \n",
      "=================================================================\n",
      "conv2d_1 (Conv2D)            (None, 256, 256, 64)      1792      \n",
      "_________________________________________________________________\n",
      "max_pooling2d_1 (MaxPooling2 (None, 85, 85, 64)        0         \n",
      "_________________________________________________________________\n",
      "conv2d_2 (Conv2D)            (None, 83, 83, 128)       73856     \n",
      "_________________________________________________________________\n",
      "max_pooling2d_2 (MaxPooling2 (None, 27, 27, 128)       0         \n",
      "_________________________________________________________________\n",
      "conv2d_3 (Conv2D)            (None, 25, 25, 256)       295168    \n",
      "_________________________________________________________________\n",
      "max_pooling2d_3 (MaxPooling2 (None, 12, 12, 256)       0         \n",
      "_________________________________________________________________\n",
      "conv2d_4 (Conv2D)            (None, 10, 10, 512)       1180160   \n",
      "_________________________________________________________________\n",
      "max_pooling2d_4 (MaxPooling2 (None, 5, 5, 512)         0         \n",
      "_________________________________________________________________\n",
      "conv2d_5 (Conv2D)            (None, 3, 3, 1024)        4719616   \n",
      "_________________________________________________________________\n",
      "max_pooling2d_5 (MaxPooling2 (None, 1, 1, 1024)        0         \n",
      "_________________________________________________________________\n",
      "dropout_1 (Dropout)          (None, 1, 1, 1024)        0         \n",
      "_________________________________________________________________\n",
      "flatten_1 (Flatten)          (None, 1024)              0         \n",
      "_________________________________________________________________\n",
      "dense_1 (Dense)              (None, 128)               131200    \n",
      "_________________________________________________________________\n",
      "dense_2 (Dense)              (None, 128)               16512     \n",
      "_________________________________________________________________\n",
      "dense_3 (Dense)              (None, 128)               16512     \n",
      "_________________________________________________________________\n",
      "dense_4 (Dense)              (None, 128)               16512     \n",
      "_________________________________________________________________\n",
      "dense_5 (Dense)              (None, 128)               16512     \n",
      "_________________________________________________________________\n",
      "dropout_2 (Dropout)          (None, 128)               0         \n",
      "_________________________________________________________________\n",
      "dense_6 (Dense)              (None, 128)               16512     \n",
      "_________________________________________________________________\n",
      "dense_7 (Dense)              (None, 128)               16512     \n",
      "_________________________________________________________________\n",
      "dense_8 (Dense)              (None, 128)               16512     \n",
      "_________________________________________________________________\n",
      "dense_9 (Dense)              (None, 128)               16512     \n",
      "_________________________________________________________________\n",
      "dense_10 (Dense)             (None, 128)               16512     \n",
      "_________________________________________________________________\n",
      "dropout_3 (Dropout)          (None, 128)               0         \n",
      "_________________________________________________________________\n",
      "dense_11 (Dense)             (None, 128)               16512     \n",
      "_________________________________________________________________\n",
      "dense_12 (Dense)             (None, 128)               16512     \n",
      "_________________________________________________________________\n",
      "dense_13 (Dense)             (None, 128)               16512     \n",
      "_________________________________________________________________\n",
      "dense_14 (Dense)             (None, 128)               16512     \n",
      "_________________________________________________________________\n",
      "dense_15 (Dense)             (None, 128)               16512     \n",
      "_________________________________________________________________\n",
      "dropout_4 (Dropout)          (None, 128)               0         \n",
      "_________________________________________________________________\n",
      "dense_16 (Dense)             (None, 2)                 258       \n",
      "=================================================================\n",
      "Total params: 6,633,218\n",
      "Trainable params: 6,633,218\n",
      "Non-trainable params: 0\n",
      "_________________________________________________________________\n"
     ]
    }
   ],
   "source": [
    "print(\"Loading model from:\", MODEL_PATH)\n",
    "NET = load_model(MODEL_PATH)\n",
    "NET.summary()"
   ]
  },
  {
   "cell_type": "code",
   "execution_count": 14,
   "id": "d499491f",
   "metadata": {},
   "outputs": [
    {
     "name": "stdout",
     "output_type": "stream",
     "text": [
      "\n",
      "======= ======== ========\n",
      "Class:  00None\n",
      "\tCases 2394 Success 2170 Rate 0.9064327485380117\n",
      "Class:  01Infarct\n",
      "\tCases 2394 Success 2223 Rate 0.9285714285714286\n",
      "Totals: \n",
      "\tCases 4788 Success 4393 Rate 0.9175020885547202\n",
      "======= ======== ========\n"
     ]
    }
   ],
   "source": [
    "def predict(file):\n",
    "    \"\"\"\n",
    "    Returns values predicted\n",
    "    \"\"\"\n",
    "    x = load_img(file, target_size=(WIDTH, HEIGHT))\n",
    "    x = img_to_array(x)\n",
    "    x = np.expand_dims(x, axis=0)\n",
    "    array = NET.predict(x)\n",
    "    result = array[0]\n",
    "    answer = np.argmax(result)\n",
    "    return CLASSES[answer], result\n",
    "\n",
    "print(\"\\n======= ======== ========\")\n",
    "\n",
    "if CLASS_COUNTING:\n",
    "    folders = [arch.name for arch in scandir(INPUT_PATH_TEST) if arch.is_file() == False]\n",
    "\n",
    "    generalSuccess = 0\n",
    "    generalCases = 0\n",
    "    for f in folders:\n",
    "        files = [arch.name for arch in scandir(INPUT_PATH_TEST + f) if arch.is_file()]\n",
    "        clase = f.replace(INPUT_PATH_TEST, '')\n",
    "        print(\"Class: \", clase)\n",
    "        indivSuccess = 0\n",
    "        indivCases = 0\n",
    "        for a in files:\n",
    "            p, r = predict(INPUT_PATH_TEST + f + \"/\" + a)\n",
    "            if p == clase:\n",
    "                indivSuccess = indivSuccess + 1\n",
    "            #elif p == '00None':\n",
    "            #    print(f + \"/\" + a)\n",
    "            indivCases = indivCases + 1\n",
    "\n",
    "        print(\"\\tCases\", indivCases, \"Success\", indivSuccess, \"Rate\", indivSuccess/indivCases)\n",
    "        \n",
    "        generalSuccess = generalSuccess + indivSuccess\n",
    "        generalCases = generalCases + indivCases\n",
    "\n",
    "    print(\"Totals: \")\n",
    "    print(\"\\tCases\", generalCases, \"Success\", generalSuccess, \"Rate\", generalSuccess/generalCases)\n",
    "else:\n",
    "    test_datagen = ImageDataGenerator()\n",
    "    test_gen = test_datagen.flow_from_directory(\n",
    "    INPUT_PATH_TEST,\n",
    "    target_size=(HEIGHT, WIDTH),\n",
    "    batch_size=BATCH_SIZE,\n",
    "    class_mode='categorical')\n",
    "    scoreSeg = NET.evaluate_generator(test_gen, 100)\n",
    "    progress = 'loss: {}, acc: {}, mse: {}'.format(\n",
    "        round(float(scoreSeg[0]), 4), \n",
    "        round(float(scoreSeg[1]), 4), \n",
    "        round(float(scoreSeg[2]), 4)\n",
    "        )\n",
    "    print(progress)\n",
    "\n",
    "print(\"======= ======== ========\")"
   ]
  },
  {
   "cell_type": "code",
   "execution_count": 8,
   "id": "c4523595",
   "metadata": {},
   "outputs": [],
   "source": [
    "def predict(file):\n",
    "    \"\"\"\n",
    "    Returns values predicted\n",
    "    \"\"\"\n",
    "    x = load_img(file, target_size=(WIDTH, HEIGHT))\n",
    "    x = img_to_array(x)\n",
    "    x = np.expand_dims(x, axis=0)\n",
    "    array = NET.predict(x)\n",
    "    result = array[0]\n",
    "    answer = np.argmax(result)\n",
    "    return CLASSES[answer], result"
   ]
  },
  {
   "cell_type": "code",
   "execution_count": 12,
   "id": "8dabe407",
   "metadata": {},
   "outputs": [],
   "source": [
    "result = predict('B:\\Sushant\\man-severe-chest-pain-poor-health-illness-man-severe-chest-pain-poor-health-illness-170029676.jpg')"
   ]
  },
  {
   "cell_type": "code",
   "execution_count": 13,
   "id": "b5382ba4",
   "metadata": {},
   "outputs": [
    {
     "data": {
      "text/plain": [
       "('01Infarct', array([0., 1.], dtype=float32))"
      ]
     },
     "execution_count": 13,
     "metadata": {},
     "output_type": "execute_result"
    }
   ],
   "source": [
    "result"
   ]
  },
  {
   "cell_type": "code",
   "execution_count": 20,
   "id": "c0d2850a",
   "metadata": {},
   "outputs": [],
   "source": [
    "from tkinter import *\n",
    "from tkinter import filedialog\n",
    "import os\n",
    "import tkinter as tk\n",
    "from PIL import Image, ImageTk"
   ]
  },
  {
   "cell_type": "code",
   "execution_count": 25,
   "id": "3f85c090",
   "metadata": {},
   "outputs": [
    {
     "name": "stderr",
     "output_type": "stream",
     "text": [
      "Exception in Tkinter callback\n",
      "Traceback (most recent call last):\n",
      "  File \"C:\\Users\\Sushant Kamble\\anaconda3\\lib\\tkinter\\__init__.py\", line 1892, in __call__\n",
      "    return self.func(*args)\n",
      "  File \"<ipython-input-25-f55bb6f99d01>\", line 2, in showimage\n",
      "    fln = filedialog.askopenfilename(initial=os.getcwd(), title ='Select Image File', filetypes=((\"All Files\", \"*.*\")))\n",
      "  File \"C:\\Users\\Sushant Kamble\\anaconda3\\lib\\tkinter\\filedialog.py\", line 376, in askopenfilename\n",
      "    return Open(**options).show()\n",
      "  File \"C:\\Users\\Sushant Kamble\\anaconda3\\lib\\tkinter\\commondialog.py\", line 44, in show\n",
      "    s = w.tk.call(self.command, *w._options(self.options))\n",
      "_tkinter.TclError: ambiguous option \"-initial\": must be -defaultextension, -filetypes, -initialdir, -initialfile, -multiple, -parent, -title, or -typevariable\n",
      "Exception in Tkinter callback\n",
      "Traceback (most recent call last):\n",
      "  File \"C:\\Users\\Sushant Kamble\\anaconda3\\lib\\tkinter\\__init__.py\", line 1892, in __call__\n",
      "    return self.func(*args)\n",
      "  File \"<ipython-input-25-f55bb6f99d01>\", line 2, in showimage\n",
      "    fln = filedialog.askopenfilename(initial=os.getcwd(), title ='Select Image File', filetypes=((\"All Files\", \"*.*\")))\n",
      "  File \"C:\\Users\\Sushant Kamble\\anaconda3\\lib\\tkinter\\filedialog.py\", line 376, in askopenfilename\n",
      "    return Open(**options).show()\n",
      "  File \"C:\\Users\\Sushant Kamble\\anaconda3\\lib\\tkinter\\commondialog.py\", line 44, in show\n",
      "    s = w.tk.call(self.command, *w._options(self.options))\n",
      "_tkinter.TclError: ambiguous option \"-initial\": must be -defaultextension, -filetypes, -initialdir, -initialfile, -multiple, -parent, -title, or -typevariable\n"
     ]
    }
   ],
   "source": [
    "def showimage():\n",
    "    fln = filedialog.askopenfilename(initial=os.getcwd(), title ='Select Image File', filetypes=((\"All Files\", \"*.*\")))\n",
    "    img = Image.open(fln)\n",
    "    img = ImageTk.PhotoImage(img)\n",
    "    lbl.configure(image=img)\n",
    "    lbl.image.img\n",
    "    \n",
    "root = Tk()\n",
    "frame = Frame(root)\n",
    "frame.pack(side = BOTTOM, padx=15, pady =15)\n",
    "\n",
    "lbl = Label(root)\n",
    "lbl.pack()\n",
    "\n",
    "button1 = Button(frame, text ='Browse', bd = '5',command = showimage)   \n",
    "button1.pack(side=tk.LEFT)\n",
    "button2 = Button(frame, text ='exit', bd ='5',  command = root.destroy)   \n",
    "button2.pack(side=tk.LEFT, padx = 10)\n",
    "\n",
    "root.title('Heart Attack Detector')\n",
    "root.geometry(\"300x350\")\n",
    "root.mainloop()"
   ]
  },
  {
   "cell_type": "code",
   "execution_count": null,
   "id": "cfc4ccb3",
   "metadata": {},
   "outputs": [],
   "source": [
    "def func(path):\n",
    "    \n",
    "    "
   ]
  }
 ],
 "metadata": {
  "kernelspec": {
   "display_name": "Python 3",
   "language": "python",
   "name": "python3"
  },
  "language_info": {
   "codemirror_mode": {
    "name": "ipython",
    "version": 3
   },
   "file_extension": ".py",
   "mimetype": "text/x-python",
   "name": "python",
   "nbconvert_exporter": "python",
   "pygments_lexer": "ipython3",
   "version": "3.8.8"
  }
 },
 "nbformat": 4,
 "nbformat_minor": 5
}
